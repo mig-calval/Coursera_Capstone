{
 "cells": [
  {
   "cell_type": "markdown",
   "metadata": {},
   "source": [
    "<font size=\"6\">Capstone Project - Applied Data Science Specialization</font><br>"
   ]
  },
  {
   "cell_type": "markdown",
   "metadata": {},
   "source": [
    "This notebook will be used to complete the Capstone Project for the Applied Data Science Specialization by IBM. It contains the final assignment, in which a business problem should be adressed and resolved with the tools learned throughout all the courses.\n",
    "\n"
   ]
  },
  {
   "cell_type": "markdown",
   "metadata": {},
   "source": [
    "\n",
    "<strong><div style=\"text-align: right\"><font size=\"5\">Making Yourself at Home</font></div></strong>\n",
    "<div style=\"text-align: right\">The problem of finding the best place to move out to</div>\n",
    "<br>\n",
    "<br>\n",
    "<strong><font size=\"4\">Introduction/Business Problem</font><br></strong>\n",
    "\n",
    "Living in Mexico City is great: Amazing food, diverse activities to enjoy both day and night, a lot of different stores, and the list goes on. Yet at times, several factors could make anyone consider moving out of the country: Contrasting political opinions against the current government, the high rates of crime and overall insecurity, increasing pollution, etc. I know it because I've lived here my whole life, and every now and then, I wonder to myself how nice it would be if the place where I lived in could preserve most of the good things, while minimizing the bad ones? Were I to move to a foreign country, I would probably get homesick if the neighborhood I move to were too different from where I live now. On the other hand, it would be somewhat boring and uneventful if it was too similar.<br>\n",
    "\n",
    "Thus, an app that could show someone recommendations of neighborhoods in different countries to move out to, based on where they live and on certain activities they would like to do, would certainly save me a lot of time spent on research, and could be really profitable if used correctly. Businesses that could benefit from this would be hotels, because the app could have an amusement-to-comfort parameter, in which people who only use the app to search for places that are \"as different as possible\"(by setting the \"amusement\" high and the \"comfort\" low) and only want to go out for some days could stay at any of the hotels that are shown as recommended (benefit for the hotel by being advertised, benefit for us as the hotel would pay a fee to be mentioned on the app).<br><br>\n",
    "\n",
    "\n",
    "<strong><font size=\"4\">Data</font><br></strong>\n",
    "\n",
    "I will be honest, I don't have a lot of time to write this code (I have paid to receive the certification, and if I don't finish this quickly, on a few days I will have to pay for another whole month!). So, however much I would like to extend on this project, I will have to limit myself to the following aspects:<br>\n",
    "\n",
    "1. Restrict current location to adresses in Mexico City.\n",
    "2. Restrict search location to Tokyo.\n",
    "3. Use only Foursqare data, and the data from the cities neighborhoods' locations.\n",
    "\n",
    "The data that will be used is: Location of the neighborhood in which the person lives (in Mexico), locations of neighborhoods in Tokyo, certain queries that the person highly values (which will be used to determine the similarity between neighborhoods), an amusement-to-comfort parameter that will be used to determine how different or similar the user wants the place to be compared to its current neighborhood, venues on the current location, and venues on the neighborhoods in Tokyo.\n",
    "\n",
    "Once the person determines its own location and the queries, the app will make Foursquare requests to meet the demands of those specific queries. Once it retrieves the different venues, it proceeds to make clusters with the data. Finally, based on the parameters given by the user, the app determines the top best 3 neighborhoods to live in, along with a list of venues available at that location.\n"
   ]
  }
 ],
 "metadata": {
  "kernelspec": {
   "display_name": "Python 3",
   "language": "python",
   "name": "python3"
  },
  "language_info": {
   "codemirror_mode": {
    "name": "ipython",
    "version": 3
   },
   "file_extension": ".py",
   "mimetype": "text/x-python",
   "name": "python",
   "nbconvert_exporter": "python",
   "pygments_lexer": "ipython3",
   "version": "3.7.3"
  }
 },
 "nbformat": 4,
 "nbformat_minor": 4
}
